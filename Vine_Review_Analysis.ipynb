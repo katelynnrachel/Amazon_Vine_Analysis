{
  "nbformat": 4,
  "nbformat_minor": 0,
  "metadata": {
    "colab": {
      "provenance": []
    },
    "kernelspec": {
      "name": "python3",
      "display_name": "Python 3"
    },
    "language_info": {
      "name": "python"
    }
  },
  "cells": [
    {
      "cell_type": "code",
      "source": [
        "import os\n",
        "# Find the latest version of spark 3.2 from http://www.apache.org/dist/spark/ and enter as the spark version\n",
        "# For example:\n",
        "# spark_version = 'spark-3.2.3'\n",
        "spark_version = 'spark-3.2.3'\n",
        "os.environ['SPARK_VERSION']=spark_version\n",
        "\n",
        "# Install Spark and Java\n",
        "!apt-get update\n",
        "!apt-get install openjdk-11-jdk-headless -qq > /dev/null\n",
        "!wget -q http://www.apache.org/dist/spark/$SPARK_VERSION/$SPARK_VERSION-bin-hadoop2.7.tgz\n",
        "!tar xf $SPARK_VERSION-bin-hadoop2.7.tgz\n",
        "!pip install -q findspark\n",
        "\n",
        "# Set Environment Variables\n",
        "import os\n",
        "os.environ[\"JAVA_HOME\"] = \"/usr/lib/jvm/java-11-openjdk-amd64\"\n",
        "os.environ[\"SPARK_HOME\"] = f\"/content/{spark_version}-bin-hadoop2.7\"\n",
        "\n",
        "# Start a SparkSession\n",
        "import findspark\n",
        "findspark.init()"
      ],
      "metadata": {
        "colab": {
          "base_uri": "https://localhost:8080/"
        },
        "id": "e8VKJFuwecTB",
        "outputId": "f8111d9b-dd08-49b3-dfc1-3bbe367f7e16"
      },
      "execution_count": 2,
      "outputs": [
        {
          "output_type": "stream",
          "name": "stdout",
          "text": [
            "\r0% [Working]\r            \rHit:1 http://security.ubuntu.com/ubuntu bionic-security InRelease\n",
            "\r0% [Waiting for headers] [Connected to cloud.r-project.org (65.9.86.118)] [Conn\r                                                                               \rHit:2 http://archive.ubuntu.com/ubuntu bionic InRelease\n",
            "\r                                                                               \rHit:3 http://archive.ubuntu.com/ubuntu bionic-updates InRelease\n",
            "\r                                                                               \rHit:4 http://ppa.launchpad.net/c2d4u.team/c2d4u4.0+/ubuntu bionic InRelease\n",
            "\r0% [Waiting for headers] [Connected to cloud.r-project.org (65.9.86.118)] [Wait\r0% [1 InRelease gpgv 88.7 kB] [Waiting for headers] [Connected to cloud.r-proje\r                                                                               \rHit:5 http://archive.ubuntu.com/ubuntu bionic-backports InRelease\n",
            "\r0% [1 InRelease gpgv 88.7 kB] [Connected to cloud.r-project.org (65.9.86.118)] \r                                                                               \rHit:6 https://cloud.r-project.org/bin/linux/ubuntu bionic-cran40/ InRelease\n",
            "\r                                                                               \r0% [1 InRelease gpgv 88.7 kB] [Waiting for headers] [Waiting for headers]\r                                                                         \rHit:7 http://ppa.launchpad.net/cran/libgit2/ubuntu bionic InRelease\n",
            "\r                                                                         \r0% [1 InRelease gpgv 88.7 kB] [Waiting for headers]\r                                                   \rHit:8 http://ppa.launchpad.net/deadsnakes/ppa/ubuntu bionic InRelease\n",
            "Hit:9 http://ppa.launchpad.net/graphics-drivers/ppa/ubuntu bionic InRelease\n",
            "Ign:10 https://developer.download.nvidia.com/compute/machine-learning/repos/ubuntu1804/x86_64  InRelease\n",
            "Hit:11 https://developer.download.nvidia.com/compute/cuda/repos/ubuntu1804/x86_64  InRelease\n",
            "Hit:12 https://developer.download.nvidia.com/compute/machine-learning/repos/ubuntu1804/x86_64  Release\n",
            "Reading package lists... Done\n"
          ]
        }
      ]
    },
    {
      "cell_type": "code",
      "source": [
        "# Download the Postgres driver that will allow Spark to interact with Postgres.\n",
        "!wget https://jdbc.postgresql.org/download/postgresql-42.2.16.jar"
      ],
      "metadata": {
        "colab": {
          "base_uri": "https://localhost:8080/"
        },
        "id": "Btcj4soNe_LS",
        "outputId": "235ee530-4d07-456c-87ca-6fa131b5e74e"
      },
      "execution_count": 3,
      "outputs": [
        {
          "output_type": "stream",
          "name": "stdout",
          "text": [
            "--2022-12-13 07:56:17--  https://jdbc.postgresql.org/download/postgresql-42.2.16.jar\n",
            "Resolving jdbc.postgresql.org (jdbc.postgresql.org)... 72.32.157.228, 2001:4800:3e1:1::228\n",
            "Connecting to jdbc.postgresql.org (jdbc.postgresql.org)|72.32.157.228|:443... connected.\n",
            "HTTP request sent, awaiting response... 200 OK\n",
            "Length: 1002883 (979K) [application/java-archive]\n",
            "Saving to: ‘postgresql-42.2.16.jar’\n",
            "\n",
            "postgresql-42.2.16. 100%[===================>] 979.38K  1.59MB/s    in 0.6s    \n",
            "\n",
            "2022-12-13 07:56:19 (1.59 MB/s) - ‘postgresql-42.2.16.jar’ saved [1002883/1002883]\n",
            "\n"
          ]
        }
      ]
    },
    {
      "cell_type": "code",
      "source": [
        "from pyspark.sql import SparkSession\n",
        "spark = SparkSession.builder.appName(\"M17-Amazon-Challenge\").config(\"spark.driver.extraClassPath\",\"/content/postgresql-42.2.16.jar\").getOrCreate()"
      ],
      "metadata": {
        "id": "xUVX2mPCfE6R"
      },
      "execution_count": 4,
      "outputs": []
    },
    {
      "cell_type": "code",
      "source": [
        "from pyspark import SparkFiles\n",
        "url = \"https://s3.amazonaws.com/amazon-reviews-pds/tsv/amazon_reviews_us_Apparel_v1_00.tsv.gz\"\n",
        "spark.sparkContext.addFile(url)\n",
        "df = spark.read.option(\"encoding\", \"UTF-8\").csv(SparkFiles.get(\"amazon_reviews_us_Apparel_v1_00.tsv.gz\"), sep=\"\\t\", header=True, inferSchema=True)\n",
        "df.show()"
      ],
      "metadata": {
        "colab": {
          "base_uri": "https://localhost:8080/"
        },
        "id": "2giSXwtJfQGp",
        "outputId": "e9ae85b9-7b5e-4f2a-b0f8-17a4a9118ef1"
      },
      "execution_count": 5,
      "outputs": [
        {
          "output_type": "stream",
          "name": "stdout",
          "text": [
            "+-----------+-----------+--------------+----------+--------------+--------------------+----------------+-----------+-------------+-----------+----+-----------------+--------------------+--------------------+-----------+\n",
            "|marketplace|customer_id|     review_id|product_id|product_parent|       product_title|product_category|star_rating|helpful_votes|total_votes|vine|verified_purchase|     review_headline|         review_body|review_date|\n",
            "+-----------+-----------+--------------+----------+--------------+--------------------+----------------+-----------+-------------+-----------+----+-----------------+--------------------+--------------------+-----------+\n",
            "|         US|   32158956|R1KKOXHNI8MSXU|B01KL6O72Y|      24485154|Easy Tool Stainle...|         Apparel|          4|            0|          0|   N|                Y|★ THESE REALLY DO...|These Really Do W...| 2013-01-14|\n",
            "|         US|    2714559|R26SP2OPDK4HT7|B01ID3ZS5W|     363128556|V28 Women Cowl Ne...|         Apparel|          5|            1|          2|   N|                Y|Favorite for wint...|I love this dress...| 2014-03-04|\n",
            "|         US|   12608825| RWQEDYAX373I1|B01I497BGY|     811958549|James Fiallo Men'...|         Apparel|          5|            0|          0|   N|                Y|Great Socks for t...|Nice socks, great...| 2015-07-12|\n",
            "|         US|   25482800|R231YI7R4GPF6J|B01HDXFZK6|     692205728|Belfry Gangster 1...|         Apparel|          5|            0|          0|   N|                Y|          Slick hat!|I bought this for...| 2015-06-03|\n",
            "|         US|    9310286|R3KO3W45DD0L1K|B01G6MBEBY|     431150422|JAEDEN Women's Be...|         Apparel|          5|            0|          0|   N|                Y|I would do it again!|Perfect dress and...| 2015-06-12|\n",
            "|         US|   26631939|R1C4QH63NFL5NJ|B01FWRXN0Y|     366144407|Levi's Boys' 514 ...|         Apparel|          5|            0|          0|   N|                Y|          Five Stars|Excellent for my ...| 2014-04-22|\n",
            "|         US|   48785098|R2GP65O1U9N7BP|B01EXNH1HE|     786052021|Minimalist Wallet...|         Apparel|          5|            0|          0|   N|                Y|            Love it!|Raw is the only w...| 2015-07-28|\n",
            "|         US|   39548589|R3O29CT5MQQ3XQ|B01E7OL09O|     108920964|Harriton Men's Ba...|         Apparel|          4|            0|          0|   N|                Y|         Three Stars|        A bit large.| 2015-07-10|\n",
            "|         US|   29355866|R1ZECD2AA8QFF6|B01DXHX81O|     317132458|Jockey Women's Un...|         Apparel|          5|            0|          0|   N|                Y|          Five Stars|          Great fit!| 2015-08-09|\n",
            "|         US|   27477484|R2S79GCF6J89OA|B01DDULIJK|     110598191|Alexander Del Ros...|         Apparel|          3|            0|          0|   N|                Y|    Not my favorite.|Shirt a bit too l...| 2014-05-24|\n",
            "|         US|   17685865|R1CBCUGNP37MPK|B01BOKOL4A|     121408017|Jockey Women's Un...|         Apparel|          5|            0|          0|   N|                Y|The Jockey Women'...|The Jockey Women'...| 2015-06-10|\n",
            "|         US|   19787539|R3NU4WUR5ZNV1V|B01B3Q4Q0O|     134506082|Bali Passion For ...|         Apparel|          5|            0|          0|   N|                Y|          Five Stars|cup size is just ...| 2013-09-06|\n",
            "|         US|   44196725|R32EPCJ3XF8LGE|B01ADDSL9U|     747539045|Lilyette Women's ...|         Apparel|          5|            0|          0|   N|                Y|          Five Stars|          Perfect...| 2014-11-17|\n",
            "|         US|   45510794|R1XIBC6WQBW31M|B019P1X5XI|     696379847|Vanity Fair Women...|         Apparel|          5|            0|          0|   N|                Y|best ever4 for me...|best  ever4 for m...| 2013-05-12|\n",
            "|         US|   42025740|R1P11MVDZ65LMH|B019MDXIXG|     387286513|Warner's Women's ...|         Apparel|          5|            0|          0|   N|                Y|          Five Stars|          Great fit.| 2014-02-14|\n",
            "|         US|   27097189|R1OJA3DJL0VDDK|B019438FEG|     764190574|Columbia Women's ...|         Apparel|          5|            0|          0|   N|                Y|          Five Stars|I have this Colum...| 2014-10-20|\n",
            "|         US|   13808904|R1THWA5YRJLOOF|B0178HGNIA|     816266887|Robes King RK Cla...|         Apparel|          4|            0|          0|   N|                Y|          Four Stars|My husband found ...| 2015-07-05|\n",
            "|         US|   30225894| R738LCNRSJVXP|B016VIU0QI|     323924698|VIV Collection Be...|         Apparel|          5|            6|          7|   N|                Y|   Awesome leggings!|Awesome leggings!...| 2015-07-29|\n",
            "|         US|   45223824|R1N3Z13931J3O9|B016PUU3VO|     893588059|Fruit of the Loom...|         Apparel|          2|            0|          0|   N|                Y|Sizes not correct...|I ordered the sam...| 2015-01-01|\n",
            "|         US|   22300783|R1LBNTP7E8N89Z|B016AQNDM4|     917361125|Jockey Scrubs Wom...|         Apparel|          1|            0|          0|   N|                Y|            One Star| not exact in sizing| 2015-02-12|\n",
            "+-----------+-----------+--------------+----------+--------------+--------------------+----------------+-----------+-------------+-----------+----+-----------------+--------------------+--------------------+-----------+\n",
            "only showing top 20 rows\n",
            "\n"
          ]
        }
      ]
    },
    {
      "cell_type": "code",
      "source": [
        "from pyspark.sql.functions import to_date\n",
        "# Read in the Review dataset as a DataFrame\n",
        "review_df = df.select([\"review_id\",\"customer_id\",\"product_id\",\"product_parent\",\"product_title\",\"review_date\",\"star_rating\", \"helpful_votes\",\"total_votes\",\"vine\",\"verified_purchase\"])\n",
        "review_df.show()"
      ],
      "metadata": {
        "colab": {
          "base_uri": "https://localhost:8080/"
        },
        "id": "1bAu1pVgfR1w",
        "outputId": "27e2d687-8a64-489d-9f1a-10835320bd61"
      },
      "execution_count": 6,
      "outputs": [
        {
          "output_type": "stream",
          "name": "stdout",
          "text": [
            "+--------------+-----------+----------+--------------+--------------------+-----------+-----------+-------------+-----------+----+-----------------+\n",
            "|     review_id|customer_id|product_id|product_parent|       product_title|review_date|star_rating|helpful_votes|total_votes|vine|verified_purchase|\n",
            "+--------------+-----------+----------+--------------+--------------------+-----------+-----------+-------------+-----------+----+-----------------+\n",
            "|R1KKOXHNI8MSXU|   32158956|B01KL6O72Y|      24485154|Easy Tool Stainle...| 2013-01-14|          4|            0|          0|   N|                Y|\n",
            "|R26SP2OPDK4HT7|    2714559|B01ID3ZS5W|     363128556|V28 Women Cowl Ne...| 2014-03-04|          5|            1|          2|   N|                Y|\n",
            "| RWQEDYAX373I1|   12608825|B01I497BGY|     811958549|James Fiallo Men'...| 2015-07-12|          5|            0|          0|   N|                Y|\n",
            "|R231YI7R4GPF6J|   25482800|B01HDXFZK6|     692205728|Belfry Gangster 1...| 2015-06-03|          5|            0|          0|   N|                Y|\n",
            "|R3KO3W45DD0L1K|    9310286|B01G6MBEBY|     431150422|JAEDEN Women's Be...| 2015-06-12|          5|            0|          0|   N|                Y|\n",
            "|R1C4QH63NFL5NJ|   26631939|B01FWRXN0Y|     366144407|Levi's Boys' 514 ...| 2014-04-22|          5|            0|          0|   N|                Y|\n",
            "|R2GP65O1U9N7BP|   48785098|B01EXNH1HE|     786052021|Minimalist Wallet...| 2015-07-28|          5|            0|          0|   N|                Y|\n",
            "|R3O29CT5MQQ3XQ|   39548589|B01E7OL09O|     108920964|Harriton Men's Ba...| 2015-07-10|          4|            0|          0|   N|                Y|\n",
            "|R1ZECD2AA8QFF6|   29355866|B01DXHX81O|     317132458|Jockey Women's Un...| 2015-08-09|          5|            0|          0|   N|                Y|\n",
            "|R2S79GCF6J89OA|   27477484|B01DDULIJK|     110598191|Alexander Del Ros...| 2014-05-24|          3|            0|          0|   N|                Y|\n",
            "|R1CBCUGNP37MPK|   17685865|B01BOKOL4A|     121408017|Jockey Women's Un...| 2015-06-10|          5|            0|          0|   N|                Y|\n",
            "|R3NU4WUR5ZNV1V|   19787539|B01B3Q4Q0O|     134506082|Bali Passion For ...| 2013-09-06|          5|            0|          0|   N|                Y|\n",
            "|R32EPCJ3XF8LGE|   44196725|B01ADDSL9U|     747539045|Lilyette Women's ...| 2014-11-17|          5|            0|          0|   N|                Y|\n",
            "|R1XIBC6WQBW31M|   45510794|B019P1X5XI|     696379847|Vanity Fair Women...| 2013-05-12|          5|            0|          0|   N|                Y|\n",
            "|R1P11MVDZ65LMH|   42025740|B019MDXIXG|     387286513|Warner's Women's ...| 2014-02-14|          5|            0|          0|   N|                Y|\n",
            "|R1OJA3DJL0VDDK|   27097189|B019438FEG|     764190574|Columbia Women's ...| 2014-10-20|          5|            0|          0|   N|                Y|\n",
            "|R1THWA5YRJLOOF|   13808904|B0178HGNIA|     816266887|Robes King RK Cla...| 2015-07-05|          4|            0|          0|   N|                Y|\n",
            "| R738LCNRSJVXP|   30225894|B016VIU0QI|     323924698|VIV Collection Be...| 2015-07-29|          5|            6|          7|   N|                Y|\n",
            "|R1N3Z13931J3O9|   45223824|B016PUU3VO|     893588059|Fruit of the Loom...| 2015-01-01|          2|            0|          0|   N|                Y|\n",
            "|R1LBNTP7E8N89Z|   22300783|B016AQNDM4|     917361125|Jockey Scrubs Wom...| 2015-02-12|          1|            0|          0|   N|                Y|\n",
            "+--------------+-----------+----------+--------------+--------------------+-----------+-----------+-------------+-----------+----+-----------------+\n",
            "only showing top 20 rows\n",
            "\n"
          ]
        }
      ]
    },
    {
      "cell_type": "code",
      "source": [
        "# Create the vine_table. DataFrame\n",
        "# vine_df = df.select([])\n",
        "vine_df = review_df.select([\"review_id\", \"star_rating\", \"helpful_votes\", \"total_votes\", \"vine\", \"verified_purchase\"])\n",
        "vine_df.show(5)"
      ],
      "metadata": {
        "colab": {
          "base_uri": "https://localhost:8080/"
        },
        "id": "obaHuBftfZJc",
        "outputId": "300529ab-c178-4dee-ea28-13b90cd5cc27"
      },
      "execution_count": 7,
      "outputs": [
        {
          "output_type": "stream",
          "name": "stdout",
          "text": [
            "+--------------+-----------+-------------+-----------+----+-----------------+\n",
            "|     review_id|star_rating|helpful_votes|total_votes|vine|verified_purchase|\n",
            "+--------------+-----------+-------------+-----------+----+-----------------+\n",
            "|R1KKOXHNI8MSXU|          4|            0|          0|   N|                Y|\n",
            "|R26SP2OPDK4HT7|          5|            1|          2|   N|                Y|\n",
            "| RWQEDYAX373I1|          5|            0|          0|   N|                Y|\n",
            "|R231YI7R4GPF6J|          5|            0|          0|   N|                Y|\n",
            "|R3KO3W45DD0L1K|          5|            0|          0|   N|                Y|\n",
            "+--------------+-----------+-------------+-----------+----+-----------------+\n",
            "only showing top 5 rows\n",
            "\n"
          ]
        }
      ]
    },
    {
      "cell_type": "markdown",
      "source": [
        "# **Analysis**"
      ],
      "metadata": {
        "id": "dSQxJ9iff_jJ"
      }
    },
    {
      "cell_type": "code",
      "source": [
        "# Filtered for >= 20 total votes\n",
        "vine_filtered_df = vine_df.filter(\"total_votes>=20\")\n",
        "vine_filtered_df.show()"
      ],
      "metadata": {
        "colab": {
          "base_uri": "https://localhost:8080/"
        },
        "id": "lzMWgt1FgNRz",
        "outputId": "feb27f69-f86b-4613-c7c1-5180df04e9e2"
      },
      "execution_count": 8,
      "outputs": [
        {
          "output_type": "stream",
          "name": "stdout",
          "text": [
            "+--------------+-----------+-------------+-----------+----+-----------------+\n",
            "|     review_id|star_rating|helpful_votes|total_votes|vine|verified_purchase|\n",
            "+--------------+-----------+-------------+-----------+----+-----------------+\n",
            "|R35PT06NWP7LDP|          5|           30|         32|   N|                N|\n",
            "|R2P76PJFUGXBHO|          1|            6|         45|   N|                N|\n",
            "| RQW4AFOG9MR4Z|          5|           51|         52|   N|                N|\n",
            "|R2SMUEBMGLAJQK|          5|           29|         36|   N|                Y|\n",
            "|R1XVIZZALU5P6J|          5|          148|        150|   N|                Y|\n",
            "|R11UFMG8M2488I|          4|           23|         26|   N|                N|\n",
            "|R2OSHKSPXU68W5|          5|          136|        147|   N|                N|\n",
            "|R3M02FSD3BLUPU|          5|           19|         21|   N|                N|\n",
            "|R1P0LEEJHH09L3|          5|           32|         32|   N|                Y|\n",
            "|R1V6UU1EHW3Q12|          5|           57|         62|   N|                Y|\n",
            "|R230W87COFSTCL|          5|           21|         21|   N|                Y|\n",
            "|R156HBTMUSEM88|          5|           48|         49|   N|                Y|\n",
            "|R2X1UHSW9KUBES|          5|           22|         22|   N|                Y|\n",
            "| RO32P11MHPMI3|          5|           24|         24|   N|                Y|\n",
            "|R2WN1VOTG9IK98|          1|            0|         22|   N|                Y|\n",
            "|R1Y8ARYNAB7PC0|          5|           19|         20|   N|                N|\n",
            "|R1QSB09EOREALQ|          4|           29|         32|   N|                Y|\n",
            "|R1BQ8BDCIV9ONZ|          5|           44|         50|   N|                Y|\n",
            "|R18638HIUF6XNR|          3|           22|         23|   N|                N|\n",
            "|  R1EHNRX9BMLK|          5|           19|         20|   N|                Y|\n",
            "+--------------+-----------+-------------+-----------+----+-----------------+\n",
            "only showing top 20 rows\n",
            "\n"
          ]
        }
      ]
    },
    {
      "cell_type": "code",
      "source": [
        "# Filtered where the number of helpful_votes divided by total_votes is equal to or greater than 50%.\n",
        "vinepercent_df = vine_filtered_df.filter(\"(helpful_votes/total_votes)>=0.5\")\n",
        "vinepercent_df.show()\n",
        "     "
      ],
      "metadata": {
        "colab": {
          "base_uri": "https://localhost:8080/"
        },
        "id": "YGrcihvZgzDH",
        "outputId": "3f8c8e62-7079-488a-f470-a169d3c15883"
      },
      "execution_count": 9,
      "outputs": [
        {
          "output_type": "stream",
          "name": "stdout",
          "text": [
            "+--------------+-----------+-------------+-----------+----+-----------------+\n",
            "|     review_id|star_rating|helpful_votes|total_votes|vine|verified_purchase|\n",
            "+--------------+-----------+-------------+-----------+----+-----------------+\n",
            "|R35PT06NWP7LDP|          5|           30|         32|   N|                N|\n",
            "| RQW4AFOG9MR4Z|          5|           51|         52|   N|                N|\n",
            "|R2SMUEBMGLAJQK|          5|           29|         36|   N|                Y|\n",
            "|R1XVIZZALU5P6J|          5|          148|        150|   N|                Y|\n",
            "|R11UFMG8M2488I|          4|           23|         26|   N|                N|\n",
            "|R2OSHKSPXU68W5|          5|          136|        147|   N|                N|\n",
            "|R3M02FSD3BLUPU|          5|           19|         21|   N|                N|\n",
            "|R1P0LEEJHH09L3|          5|           32|         32|   N|                Y|\n",
            "|R1V6UU1EHW3Q12|          5|           57|         62|   N|                Y|\n",
            "|R230W87COFSTCL|          5|           21|         21|   N|                Y|\n",
            "|R156HBTMUSEM88|          5|           48|         49|   N|                Y|\n",
            "|R2X1UHSW9KUBES|          5|           22|         22|   N|                Y|\n",
            "| RO32P11MHPMI3|          5|           24|         24|   N|                Y|\n",
            "|R1Y8ARYNAB7PC0|          5|           19|         20|   N|                N|\n",
            "|R1QSB09EOREALQ|          4|           29|         32|   N|                Y|\n",
            "|R1BQ8BDCIV9ONZ|          5|           44|         50|   N|                Y|\n",
            "|R18638HIUF6XNR|          3|           22|         23|   N|                N|\n",
            "|  R1EHNRX9BMLK|          5|           19|         20|   N|                Y|\n",
            "|R26L79OMEJLULL|          5|           32|         36|   N|                Y|\n",
            "| RQLV8G3M9ZOT2|          5|           22|         23|   N|                N|\n",
            "+--------------+-----------+-------------+-----------+----+-----------------+\n",
            "only showing top 20 rows\n",
            "\n"
          ]
        }
      ]
    },
    {
      "cell_type": "code",
      "source": [
        "# Filtered for paid reviews, more than 50% helpful\n",
        "paid_df = vinepercent_df.filter(\"vine == 'Y'\")\n",
        "paid_df.show()"
      ],
      "metadata": {
        "colab": {
          "base_uri": "https://localhost:8080/"
        },
        "id": "MCdK0LMgiXQh",
        "outputId": "ed8c4eef-9f6f-4163-bb8e-dc57768fa864"
      },
      "execution_count": 10,
      "outputs": [
        {
          "output_type": "stream",
          "name": "stdout",
          "text": [
            "+--------------+-----------+-------------+-----------+----+-----------------+\n",
            "|     review_id|star_rating|helpful_votes|total_votes|vine|verified_purchase|\n",
            "+--------------+-----------+-------------+-----------+----+-----------------+\n",
            "| R6U9701C3BGO6|          3|          139|        147|   Y|                N|\n",
            "|R1XK3ALB45D7N4|          5|           33|         34|   Y|                N|\n",
            "|R1IZCSTLX81D6C|          5|           31|         33|   Y|                N|\n",
            "|R2C8NC8EQLH4JF|          3|           45|         48|   Y|                N|\n",
            "|R1JJ1YOJMOML1P|          5|           18|         21|   Y|                N|\n",
            "|R3TKG664L9MTXJ|          4|          164|        175|   Y|                N|\n",
            "|R2E942L5EX73FP|          5|           29|         33|   Y|                N|\n",
            "|R3CGRT9HYB3LI7|          5|           20|         21|   Y|                N|\n",
            "|R3HIFO4D3ZIBZ7|          5|           25|         26|   Y|                N|\n",
            "|R2VUXJT91MXOQJ|          3|           72|         79|   Y|                N|\n",
            "|R1C8PGDXGYR30Z|          4|           29|         30|   Y|                N|\n",
            "| R8MS8X9EHHTPL|          3|           18|         20|   Y|                N|\n",
            "|R31GNOM0KSO811|          5|           33|         35|   Y|                N|\n",
            "|R30QE1QK86LPYL|          5|          240|        248|   Y|                N|\n",
            "|R22HZWFVEVORET|          4|           47|         50|   Y|                N|\n",
            "|R1FH9B0W7UFLK0|          2|           40|         45|   Y|                N|\n",
            "|R3JA6LR9QD9TZE|          4|           18|         20|   Y|                N|\n",
            "|R378OQDA4JN3IG|          4|           42|         44|   Y|                N|\n",
            "|R2U5MIYOYUTTUA|          3|           31|         34|   Y|                N|\n",
            "|R337AR463Y2FPD|          3|           22|         22|   Y|                N|\n",
            "+--------------+-----------+-------------+-----------+----+-----------------+\n",
            "only showing top 20 rows\n",
            "\n"
          ]
        }
      ]
    },
    {
      "cell_type": "code",
      "source": [
        "# Filtered for unpaid reviews, more than 50% helpful\n",
        "unpaid_df = vinepercent_df.filter(\"vine == 'N'\")\n",
        "unpaid_df.show()"
      ],
      "metadata": {
        "colab": {
          "base_uri": "https://localhost:8080/"
        },
        "id": "0VFIvInUjHD7",
        "outputId": "e17ec13c-96b3-437a-a929-8cdb026b42b6"
      },
      "execution_count": 11,
      "outputs": [
        {
          "output_type": "stream",
          "name": "stdout",
          "text": [
            "+--------------+-----------+-------------+-----------+----+-----------------+\n",
            "|     review_id|star_rating|helpful_votes|total_votes|vine|verified_purchase|\n",
            "+--------------+-----------+-------------+-----------+----+-----------------+\n",
            "|R35PT06NWP7LDP|          5|           30|         32|   N|                N|\n",
            "| RQW4AFOG9MR4Z|          5|           51|         52|   N|                N|\n",
            "|R2SMUEBMGLAJQK|          5|           29|         36|   N|                Y|\n",
            "|R1XVIZZALU5P6J|          5|          148|        150|   N|                Y|\n",
            "|R11UFMG8M2488I|          4|           23|         26|   N|                N|\n",
            "|R2OSHKSPXU68W5|          5|          136|        147|   N|                N|\n",
            "|R3M02FSD3BLUPU|          5|           19|         21|   N|                N|\n",
            "|R1P0LEEJHH09L3|          5|           32|         32|   N|                Y|\n",
            "|R1V6UU1EHW3Q12|          5|           57|         62|   N|                Y|\n",
            "|R230W87COFSTCL|          5|           21|         21|   N|                Y|\n",
            "|R156HBTMUSEM88|          5|           48|         49|   N|                Y|\n",
            "|R2X1UHSW9KUBES|          5|           22|         22|   N|                Y|\n",
            "| RO32P11MHPMI3|          5|           24|         24|   N|                Y|\n",
            "|R1Y8ARYNAB7PC0|          5|           19|         20|   N|                N|\n",
            "|R1QSB09EOREALQ|          4|           29|         32|   N|                Y|\n",
            "|R1BQ8BDCIV9ONZ|          5|           44|         50|   N|                Y|\n",
            "|R18638HIUF6XNR|          3|           22|         23|   N|                N|\n",
            "|  R1EHNRX9BMLK|          5|           19|         20|   N|                Y|\n",
            "|R26L79OMEJLULL|          5|           32|         36|   N|                Y|\n",
            "| RQLV8G3M9ZOT2|          5|           22|         23|   N|                N|\n",
            "+--------------+-----------+-------------+-----------+----+-----------------+\n",
            "only showing top 20 rows\n",
            "\n"
          ]
        }
      ]
    },
    {
      "cell_type": "code",
      "source": [
        "# Total Number of Reviews - paid\n",
        "total_paid_reviews = paid_df.count()\n",
        "total_paid_reviews"
      ],
      "metadata": {
        "colab": {
          "base_uri": "https://localhost:8080/"
        },
        "id": "Q92nT-e_jRT5",
        "outputId": "ed70535a-e1c8-4062-df35-ad8ad80708bd"
      },
      "execution_count": 14,
      "outputs": [
        {
          "output_type": "execute_result",
          "data": {
            "text/plain": [
              "33"
            ]
          },
          "metadata": {},
          "execution_count": 14
        }
      ]
    },
    {
      "cell_type": "code",
      "source": [
        "# Total Number of Reviews - unpaid\n",
        "total_unpaid_reviews = unpaid_df.count()\n",
        "total_unpaid_reviews"
      ],
      "metadata": {
        "colab": {
          "base_uri": "https://localhost:8080/"
        },
        "id": "f2TLDcn0usQs",
        "outputId": "56f95a26-95f9-4a0d-9f06-2ada8c8c8c07"
      },
      "execution_count": 15,
      "outputs": [
        {
          "output_type": "execute_result",
          "data": {
            "text/plain": [
              "45388"
            ]
          },
          "metadata": {},
          "execution_count": 15
        }
      ]
    },
    {
      "cell_type": "code",
      "source": [
        "# Number of 5 Star Reviews - paid\n",
        "paid_five_star_reviews = paid_df.filter(paid_df.star_rating == 5).count()\n",
        "paid_five_star_reviews"
      ],
      "metadata": {
        "colab": {
          "base_uri": "https://localhost:8080/"
        },
        "id": "mCsRvaw4jXF-",
        "outputId": "e6e2734b-d7f8-4ff7-9c21-bf066dde3758"
      },
      "execution_count": 19,
      "outputs": [
        {
          "output_type": "execute_result",
          "data": {
            "text/plain": [
              "15"
            ]
          },
          "metadata": {},
          "execution_count": 19
        }
      ]
    },
    {
      "cell_type": "code",
      "source": [
        "# Number of 5 Star Reviews - unpaid\n",
        "unpaid_five_star_reviews = unpaid_df.filter(unpaid_df.star_rating == 5).count()\n",
        "unpaid_five_star_reviews"
      ],
      "metadata": {
        "colab": {
          "base_uri": "https://localhost:8080/"
        },
        "id": "1RJ3GVCZvCO5",
        "outputId": "f9119daa-8de6-4831-969a-586b0489c5b6"
      },
      "execution_count": 20,
      "outputs": [
        {
          "output_type": "execute_result",
          "data": {
            "text/plain": [
              "23733"
            ]
          },
          "metadata": {},
          "execution_count": 20
        }
      ]
    },
    {
      "cell_type": "code",
      "source": [
        "# Percentage of 5-star reviews for paid reviews\n",
        "percent_paid = (paid_five_star_reviews / total_paid_reviews) * 100\n",
        "percent_paid"
      ],
      "metadata": {
        "colab": {
          "base_uri": "https://localhost:8080/"
        },
        "id": "q3gXT9TKjb0R",
        "outputId": "ab42f53d-827a-4a87-8019-cbe7b485e2a7"
      },
      "execution_count": 21,
      "outputs": [
        {
          "output_type": "execute_result",
          "data": {
            "text/plain": [
              "45.45454545454545"
            ]
          },
          "metadata": {},
          "execution_count": 21
        }
      ]
    },
    {
      "cell_type": "code",
      "source": [
        "# Percentage of 5-star reviews for unpaid reviews\n",
        "percent_unpaid = (unpaid_five_star_reviews/total_unpaid_reviews) * 100\n",
        "percent_unpaid"
      ],
      "metadata": {
        "colab": {
          "base_uri": "https://localhost:8080/"
        },
        "id": "NiPlSXI4jkgd",
        "outputId": "349ede36-644f-43ad-a1bf-eca38df1217d"
      },
      "execution_count": 22,
      "outputs": [
        {
          "output_type": "execute_result",
          "data": {
            "text/plain": [
              "52.28915131752886"
            ]
          },
          "metadata": {},
          "execution_count": 22
        }
      ]
    }
  ]
}